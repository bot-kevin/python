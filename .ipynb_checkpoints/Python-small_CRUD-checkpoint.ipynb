{
 "cells": [
  {
   "cell_type": "code",
   "execution_count": 7,
   "metadata": {},
   "outputs": [],
   "source": [
    "class Producto:\n",
    "            \n",
    "    def __init__(self,nombre,precio,cantidad,categoria):\n",
    "        self.nombre = nombre\n",
    "        self.precio = precio\n",
    "        self.cantidad = cantidad\n",
    "        self.categoria = categoria\n",
    "                                     "
   ]
  },
  {
   "cell_type": "code",
   "execution_count": 13,
   "metadata": {},
   "outputs": [],
   "source": [
    "import sqlite3"
   ]
  },
  {
   "cell_type": "code",
   "execution_count": 48,
   "metadata": {},
   "outputs": [],
   "source": [
    "class conexionSQLite():\n",
    "    def __init__(self):        \n",
    "        pass\n",
    "        \n",
    "    def conectar(self,nombreDB):\n",
    "        return sqlite3.connect(nombreDB)\n",
    "    \n",
    "    def desconectar(self,conexion:sqlite3):\n",
    "        conexion.close()\n",
    "        \n",
    "    def creartable(self,sql,nombreDB):\n",
    "        mi_conexion = self.conectar(nombreDB)\n",
    "        mi_cursor = mi_conexion.cursor()\n",
    "        mi_cursor.execute(sql)\n",
    "        self.desconectar(mi_conexion)\n",
    "        \n",
    "    def insertar(self,sql:str,lista,namedb):\n",
    "        mi_conexion = self.conectar(namedb)\n",
    "        mi_cursor = mi_conexion.cursor()\n",
    "        mi_cursor.executemany(sql,lista)                \n",
    "        mi_conexion.commit()\n",
    "        self.desconectar(mi_conexion)\n",
    "        "
   ]
  },
  {
   "cell_type": "code",
   "execution_count": 49,
   "metadata": {},
   "outputs": [],
   "source": [
    "class Principal:\n",
    "   \n",
    "    lista_productos = []\n",
    "    name_db = \"CRUDPOO\"\n",
    "    mi_sqlite = conexionSQLite()\n",
    "    \n",
    "    def main(self):\n",
    "        #CRAR TABLA DE SQLite        \n",
    "        self.mi_sqlite.creartable(\"CREATE TABLE IF NOT EXISTS producto (nombre varchar(10), precio float, cantidad int, categoria varchar(10) )\",self.name_db)\n",
    "        \n",
    "        while True:\n",
    "            opcion = input(\" 1=Crear \\n 2=eliminar \\n 3=Update \\n 4=Listas \\n\")            \n",
    "            if opcion == \"1\":\n",
    "                nombre = input('Ingrese el nombre: ')\n",
    "                precio = input('Ingrese el precio: ')\n",
    "                cantidad = input('Ingrese la cantidad: ')\n",
    "                categoria = input('Ingrese la categoria: ')\n",
    "                \n",
    "                producto = Producto(nombre, precio,cantidad, categoria)                                                                                           \n",
    "                self._crear_producto(producto)\n",
    "                \n",
    "            elif opcion == \"4\":\n",
    "                self._mostrar_lista(self.lista_productos)\n",
    "                \n",
    "            elif opcion == \"2\":\n",
    "                nombre = input('Ingrese el nombre del producto a eliminar: ')\n",
    "                self._eliminar_producto(self.lista_productos,nombre)\n",
    "            elif opcion == \"3\":\n",
    "                nombre = input('Ingrese el nombre del producto a actualizar')\n",
    "                self._update_producto(nombre, self.lista_productos)\n",
    "            else:\n",
    "                break\n",
    "                \n",
    "    def _crear_producto(self,producto:Producto):    \n",
    "        self.lista_productos.append(producto)                \n",
    "        # self.mi_sqlite.insertar(\"INSERT INTO producto values(?,?,?,?)\",self.lista_productos,self.name_db)\n",
    "        \n",
    "    def _mostrar_lista(self,lista_producto:list):\n",
    "        for proc in lista_producto:\n",
    "            print(f\" Nombre: {proc.nombre}\")\n",
    "            \n",
    "    def _eliminar_producto(self,lista_producto:list,nombre:str):\n",
    "        for p in lista_producto:\n",
    "            if nombre in p.nombre:\n",
    "                print(\"Se puede eliminar\")\n",
    "                self.lista_productos.remove(p)\n",
    "                break\n",
    "            else :\n",
    "                print(\"No se puede eliminar\") \n",
    "    def _update_producto(self,nombre,lista_producto):\n",
    "        for p in lista_producto:\n",
    "            if nombre in p.nombre:\n",
    "                i = lista_producto.index(p)\n",
    "                break\n",
    "        nombre = input('Ingrese el nuevo nombre: ')\n",
    "        precio = input('Ingrese el nuevo precio: ')\n",
    "        cantidad = input('Ingrese la nueva cantidad: ')\n",
    "        categoria = input('Ingrese la nueva categoria: ')\n",
    "        producto = Producto(nombre, precio,cantidad, categoria)\n",
    "        self.lista_productos[i] = producto                          "
   ]
  },
  {
   "cell_type": "code",
   "execution_count": 50,
   "metadata": {
    "scrolled": false
   },
   "outputs": [
    {
     "name": "stdout",
     "output_type": "stream",
     "text": [
      " 1=Crear \n",
      " 2=eliminar \n",
      " 3=Update \n",
      " 4=Listas \n",
      "1\n",
      "Ingrese el nombre: a\n",
      "Ingrese el precio: 1\n",
      "Ingrese la cantidad: 1\n",
      "Ingrese la categoria: a\n"
     ]
    },
    {
     "ename": "ValueError",
     "evalue": "parameters are of unsupported type",
     "output_type": "error",
     "traceback": [
      "\u001b[1;31m---------------------------------------------------------------------------\u001b[0m",
      "\u001b[1;31mValueError\u001b[0m                                Traceback (most recent call last)",
      "\u001b[1;32m<ipython-input-50-8ca2cfea0aa5>\u001b[0m in \u001b[0;36m<module>\u001b[1;34m\u001b[0m\n\u001b[0;32m      1\u001b[0m \u001b[0mmy_programa\u001b[0m  \u001b[1;33m=\u001b[0m \u001b[0mPrincipal\u001b[0m\u001b[1;33m(\u001b[0m\u001b[1;33m)\u001b[0m\u001b[1;33m\u001b[0m\u001b[1;33m\u001b[0m\u001b[0m\n\u001b[1;32m----> 2\u001b[1;33m \u001b[0mmy_programa\u001b[0m\u001b[1;33m.\u001b[0m\u001b[0mmain\u001b[0m\u001b[1;33m(\u001b[0m\u001b[1;33m)\u001b[0m\u001b[1;33m\u001b[0m\u001b[1;33m\u001b[0m\u001b[0m\n\u001b[0m",
      "\u001b[1;32m<ipython-input-49-7aae7bf3bf14>\u001b[0m in \u001b[0;36mmain\u001b[1;34m(self)\u001b[0m\n\u001b[0;32m     18\u001b[0m \u001b[1;33m\u001b[0m\u001b[0m\n\u001b[0;32m     19\u001b[0m                 \u001b[0mproducto\u001b[0m \u001b[1;33m=\u001b[0m \u001b[0mProducto\u001b[0m\u001b[1;33m(\u001b[0m\u001b[0mnombre\u001b[0m\u001b[1;33m,\u001b[0m \u001b[0mprecio\u001b[0m\u001b[1;33m,\u001b[0m\u001b[0mcantidad\u001b[0m\u001b[1;33m,\u001b[0m \u001b[0mcategoria\u001b[0m\u001b[1;33m)\u001b[0m\u001b[1;33m\u001b[0m\u001b[1;33m\u001b[0m\u001b[0m\n\u001b[1;32m---> 20\u001b[1;33m                 \u001b[0mself\u001b[0m\u001b[1;33m.\u001b[0m\u001b[0m_crear_producto\u001b[0m\u001b[1;33m(\u001b[0m\u001b[0mproducto\u001b[0m\u001b[1;33m)\u001b[0m\u001b[1;33m\u001b[0m\u001b[1;33m\u001b[0m\u001b[0m\n\u001b[0m\u001b[0;32m     21\u001b[0m \u001b[1;33m\u001b[0m\u001b[0m\n\u001b[0;32m     22\u001b[0m             \u001b[1;32melif\u001b[0m \u001b[0mopcion\u001b[0m \u001b[1;33m==\u001b[0m \u001b[1;34m\"4\"\u001b[0m\u001b[1;33m:\u001b[0m\u001b[1;33m\u001b[0m\u001b[1;33m\u001b[0m\u001b[0m\n",
      "\u001b[1;32m<ipython-input-49-7aae7bf3bf14>\u001b[0m in \u001b[0;36m_crear_producto\u001b[1;34m(self, producto)\u001b[0m\n\u001b[0;32m     34\u001b[0m     \u001b[1;32mdef\u001b[0m \u001b[0m_crear_producto\u001b[0m\u001b[1;33m(\u001b[0m\u001b[0mself\u001b[0m\u001b[1;33m,\u001b[0m\u001b[0mproducto\u001b[0m\u001b[1;33m:\u001b[0m\u001b[0mProducto\u001b[0m\u001b[1;33m)\u001b[0m\u001b[1;33m:\u001b[0m\u001b[1;33m\u001b[0m\u001b[1;33m\u001b[0m\u001b[0m\n\u001b[0;32m     35\u001b[0m         \u001b[0mself\u001b[0m\u001b[1;33m.\u001b[0m\u001b[0mlista_productos\u001b[0m\u001b[1;33m.\u001b[0m\u001b[0mappend\u001b[0m\u001b[1;33m(\u001b[0m\u001b[0mproducto\u001b[0m\u001b[1;33m)\u001b[0m\u001b[1;33m\u001b[0m\u001b[1;33m\u001b[0m\u001b[0m\n\u001b[1;32m---> 36\u001b[1;33m         \u001b[0mself\u001b[0m\u001b[1;33m.\u001b[0m\u001b[0mmi_sqlite\u001b[0m\u001b[1;33m.\u001b[0m\u001b[0minsertar\u001b[0m\u001b[1;33m(\u001b[0m\u001b[0mstr\u001b[0m\u001b[1;33m(\u001b[0m\u001b[1;34m\"INSERT INTO producto values(?,?,?,?)\"\u001b[0m\u001b[1;33m)\u001b[0m\u001b[1;33m,\u001b[0m\u001b[0mself\u001b[0m\u001b[1;33m.\u001b[0m\u001b[0mlista_productos\u001b[0m\u001b[1;33m,\u001b[0m\u001b[0mself\u001b[0m\u001b[1;33m.\u001b[0m\u001b[0mname_db\u001b[0m\u001b[1;33m)\u001b[0m\u001b[1;33m\u001b[0m\u001b[1;33m\u001b[0m\u001b[0m\n\u001b[0m\u001b[0;32m     37\u001b[0m     \u001b[1;32mdef\u001b[0m \u001b[0m_mostrar_lista\u001b[0m\u001b[1;33m(\u001b[0m\u001b[0mself\u001b[0m\u001b[1;33m,\u001b[0m\u001b[0mlista_producto\u001b[0m\u001b[1;33m:\u001b[0m\u001b[0mlist\u001b[0m\u001b[1;33m)\u001b[0m\u001b[1;33m:\u001b[0m\u001b[1;33m\u001b[0m\u001b[1;33m\u001b[0m\u001b[0m\n\u001b[0;32m     38\u001b[0m         \u001b[1;32mfor\u001b[0m \u001b[0mproc\u001b[0m \u001b[1;32min\u001b[0m \u001b[0mlista_producto\u001b[0m\u001b[1;33m:\u001b[0m\u001b[1;33m\u001b[0m\u001b[1;33m\u001b[0m\u001b[0m\n",
      "\u001b[1;32m<ipython-input-48-0244fb9b6fc8>\u001b[0m in \u001b[0;36minsertar\u001b[1;34m(self, sql, lista, namedb)\u001b[0m\n\u001b[0;32m     18\u001b[0m         \u001b[0mmi_conexion\u001b[0m \u001b[1;33m=\u001b[0m \u001b[0mself\u001b[0m\u001b[1;33m.\u001b[0m\u001b[0mconectar\u001b[0m\u001b[1;33m(\u001b[0m\u001b[0mnamedb\u001b[0m\u001b[1;33m)\u001b[0m\u001b[1;33m\u001b[0m\u001b[1;33m\u001b[0m\u001b[0m\n\u001b[0;32m     19\u001b[0m         \u001b[0mmi_cursor\u001b[0m \u001b[1;33m=\u001b[0m \u001b[0mmi_conexion\u001b[0m\u001b[1;33m.\u001b[0m\u001b[0mcursor\u001b[0m\u001b[1;33m(\u001b[0m\u001b[1;33m)\u001b[0m\u001b[1;33m\u001b[0m\u001b[1;33m\u001b[0m\u001b[0m\n\u001b[1;32m---> 20\u001b[1;33m         \u001b[0mmi_cursor\u001b[0m\u001b[1;33m.\u001b[0m\u001b[0mexecutemany\u001b[0m\u001b[1;33m(\u001b[0m\u001b[0msql\u001b[0m\u001b[1;33m,\u001b[0m\u001b[0mlista\u001b[0m\u001b[1;33m)\u001b[0m\u001b[1;33m\u001b[0m\u001b[1;33m\u001b[0m\u001b[0m\n\u001b[0m\u001b[0;32m     21\u001b[0m         \u001b[0mmi_conexion\u001b[0m\u001b[1;33m.\u001b[0m\u001b[0mcommit\u001b[0m\u001b[1;33m(\u001b[0m\u001b[1;33m)\u001b[0m\u001b[1;33m\u001b[0m\u001b[1;33m\u001b[0m\u001b[0m\n\u001b[0;32m     22\u001b[0m         \u001b[0mself\u001b[0m\u001b[1;33m.\u001b[0m\u001b[0mdesconectar\u001b[0m\u001b[1;33m(\u001b[0m\u001b[0mmi_conexion\u001b[0m\u001b[1;33m)\u001b[0m\u001b[1;33m\u001b[0m\u001b[1;33m\u001b[0m\u001b[0m\n",
      "\u001b[1;31mValueError\u001b[0m: parameters are of unsupported type"
     ]
    }
   ],
   "source": [
    "my_programa  = Principal()    \n",
    "my_programa.main()"
   ]
  }
 ],
 "metadata": {
  "kernelspec": {
   "display_name": "Python 3",
   "language": "python",
   "name": "python3"
  },
  "language_info": {
   "codemirror_mode": {
    "name": "ipython",
    "version": 3
   },
   "file_extension": ".py",
   "mimetype": "text/x-python",
   "name": "python",
   "nbconvert_exporter": "python",
   "pygments_lexer": "ipython3",
   "version": "3.7.6"
  }
 },
 "nbformat": 4,
 "nbformat_minor": 4
}
