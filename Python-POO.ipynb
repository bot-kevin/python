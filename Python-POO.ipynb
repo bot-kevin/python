{
 "cells": [
  {
   "cell_type": "markdown",
   "metadata": {},
   "source": [
    "# python- POO"
   ]
  },
  {
   "cell_type": "markdown",
   "metadata": {},
   "source": [
    "## Clases y Objetos I"
   ]
  },
  {
   "cell_type": "code",
   "execution_count": 1,
   "metadata": {},
   "outputs": [
    {
     "name": "stdout",
     "output_type": "stream",
     "text": [
      "Zusuki\n"
     ]
    }
   ],
   "source": [
    "class Car:\n",
    "    # Atributos de clase\n",
    "    marca:str = \"Zusuki\"\n",
    "    modelo:int = 0\n",
    "    placa:str = \"CUR15E\"\n",
    "#Instancia de un objeto     \n",
    "mi_car = Car()\n",
    "print(mi_car.marca)"
   ]
  },
  {
   "cell_type": "markdown",
   "metadata": {},
   "source": [
    "## Clases y objetos II"
   ]
  },
  {
   "cell_type": "code",
   "execution_count": null,
   "metadata": {},
   "outputs": [],
   "source": [
    "class Jugadores:\n",
    "    pass\n",
    "\n",
    "#Instancia de objetos\n",
    "kevin = Jugadores()\n",
    "daniel = Jugadores()\n",
    "# asignación de valores a objetos\n",
    "kevin.edad = 20\n",
    "kevin.nombre = \"Kevin Narvaez\"\n",
    "\n",
    "daniel.nombre = \"Daniel Alejandro\"\n",
    "daniel.edad= 24\n",
    "# Llamado a objetos y sus atributos\n",
    "print(kevin.edad)\n",
    "print(daniel.edad)"
   ]
  },
  {
   "cell_type": "markdown",
   "metadata": {},
   "source": [
    "## Metodos"
   ]
  },
  {
   "cell_type": "code",
   "execution_count": null,
   "metadata": {},
   "outputs": [],
   "source": [
    "class Matematica:\n",
    "    #crear el metodo con el parametro por defecto self\n",
    "    def _suma(self):\n",
    "        self.n1 = 2\n",
    "        self.n2 = 3        \n",
    "        \n",
    "miMatematica = Matematica()\n",
    "miMatematica._suma()\n",
    "print(\"El resultado es: \", miMatematica.n1+miMatematica.n2)"
   ]
  },
  {
   "cell_type": "markdown",
   "metadata": {},
   "source": [
    "## Metodo _init_(self)"
   ]
  },
  {
   "cell_type": "code",
   "execution_count": 24,
   "metadata": {},
   "outputs": [
    {
     "name": "stdout",
     "output_type": "stream",
     "text": [
      "M Rojo 200\n"
     ]
    }
   ],
   "source": [
    "class Ropa:\n",
    "    def __init__(self,precio):\n",
    "        self.marca = 'nilo'\n",
    "        self.talla = 'M'\n",
    "        self.color = 'Rojo'\n",
    "        self.precio = precio\n",
    "        \n",
    "mi_camisa = Ropa(200)\n",
    "print(mi_camisa.talla, mi_camisa.color, mi_camisa.precio)"
   ]
  },
  {
   "cell_type": "markdown",
   "metadata": {},
   "source": [
    "## Ejecrcicio: "
   ]
  },
  {
   "cell_type": "code",
   "execution_count": null,
   "metadata": {},
   "outputs": [],
   "source": [
    "class Producto:\n",
    "    def __init__(self,nombre,precio,cantidad,categoria):\n",
    "        self.nombre = nombre\n",
    "        self.precio = precio\n",
    "        self.cantidad = cantidad\n",
    "        self.categoria = categoria\n",
    "        \n",
    "class Principal:\n",
    "   \n",
    "    lista_productos = []\n",
    "            \n",
    "    def main(self):\n",
    "         while True:\n",
    "            opcion = input(\" 1=Crear \\n 2=eliminar \\n 3=Update \\n 4=Listas \\n\")\n",
    "            if opcion == \"1\":\n",
    "                producto = Producto(\"Arroz\", 3000, 5, \"Granos\")\n",
    "                producto2 = Producto(\"Flijol\", 3000, 5, \"Granos\")\n",
    "                self._crear_producto(producto)\n",
    "                self._crear_producto(producto2)\n",
    "                \n",
    "            elif opcion == \"4\":\n",
    "                self._mostrar_lista(self.lista_productos)\n",
    "                \n",
    "            elif opcion == \"2\":\n",
    "                nombre = input('Ingrese el nombre dle producto a eliminar: ')\n",
    "                self._eliminar_producto(self.lista_productos,nombre)\n",
    "                \n",
    "            else:\n",
    "                break\n",
    "            \n",
    "    def _crear_producto(self,producto:Producto):    \n",
    "        self.lista_productos.append(producto)                \n",
    "        print(\"Lista creada !!\")\n",
    "        \n",
    "    def _mostrar_lista(self,lista_producto:list):\n",
    "        for proc in lista_producto:\n",
    "            print(f\" Nombre: {proc.nombre}\")\n",
    "            \n",
    "    def _eliminar_producto(self,lista_producto:list,nombre:str):\n",
    "        for p in lista_producto:\n",
    "            if nombre in p.nombre:\n",
    "                print(\"Se puede eliminar\")   \n",
    "                break\n",
    "            else :\n",
    "                print(\"No se puede eliminar\")                \n",
    "            \n",
    "my_programa  = Principal()    \n",
    "my_programa.main()"
   ]
  }
 ],
 "metadata": {
  "kernelspec": {
   "display_name": "Python 3",
   "language": "python",
   "name": "python3"
  },
  "language_info": {
   "codemirror_mode": {
    "name": "ipython",
    "version": 3
   },
   "file_extension": ".py",
   "mimetype": "text/x-python",
   "name": "python",
   "nbconvert_exporter": "python",
   "pygments_lexer": "ipython3",
   "version": "3.7.6"
  }
 },
 "nbformat": 4,
 "nbformat_minor": 4
}
