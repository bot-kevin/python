{
 "cells": [
  {
   "cell_type": "markdown",
   "metadata": {},
   "source": [
    "# Funciones anonimas \n",
    "## lambda"
   ]
  },
  {
   "cell_type": "code",
   "execution_count": 7,
   "metadata": {},
   "outputs": [
    {
     "name": "stdout",
     "output_type": "stream",
     "text": [
      "10.0\n",
      "45.0\n",
      "8\n"
     ]
    }
   ],
   "source": [
    "# crear unafuncion que haga el calculo repetidamente un calculo\n",
    "#Function tradicional\n",
    "def area_trianulo(base,altura):\n",
    "    return (base*altura)/2\n",
    "#funcion lambda\n",
    "area_triangulo = lambda base,altura: (base*altura)/2\n",
    "\n",
    "print(area_triangulo(4,5))\n",
    "print(area_triangulo(45,2))\n",
    "a = area_triangulo(45,2)\n",
    "\n",
    "#otro ejemplo\n",
    "al_cubo = lambda n:pow(n,3)\n",
    "print(al_cubo(2))"
   ]
  }
 ],
 "metadata": {
  "kernelspec": {
   "display_name": "Python 3",
   "language": "python",
   "name": "python3"
  },
  "language_info": {
   "codemirror_mode": {
    "name": "ipython",
    "version": 3
   },
   "file_extension": ".py",
   "mimetype": "text/x-python",
   "name": "python",
   "nbconvert_exporter": "python",
   "pygments_lexer": "ipython3",
   "version": "3.7.6"
  }
 },
 "nbformat": 4,
 "nbformat_minor": 4
}
